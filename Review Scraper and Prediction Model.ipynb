{
 "cells": [
  {
   "cell_type": "markdown",
   "id": "c0d97a48",
   "metadata": {},
   "source": [
    "## Scraping reviews from Rotten Tomatoes and Building a Prediction Model"
   ]
  },
  {
   "cell_type": "markdown",
   "id": "eabf4a2a",
   "metadata": {},
   "source": [
    "I will be using Python libraries to first scrape movie reviews from the rotten tomatoes website.\n",
    "Thereafter I will build two classification models to classify the reviews as 'fresh' (positive) or 'rotten' (negative)."
   ]
  },
  {
   "cell_type": "code",
   "execution_count": null,
   "id": "0040d4b7",
   "metadata": {},
   "outputs": [],
   "source": [
    "import time\n",
    "import pandas as pd\n",
    "from bs4 import BeautifulSoup\n",
    "from selenium import webdriver\n",
    "from selenium.webdriver.chrome.service import Service\n",
    "from selenium.common.exceptions import NoSuchElementException\n",
    "from selenium.webdriver.common.by import By"
   ]
  },
  {
   "cell_type": "code",
   "execution_count": 3,
   "id": "c50706e2",
   "metadata": {},
   "outputs": [],
   "source": [
    "path = \"C:\\Program Files\\chromedriver\"\n",
    "s=Service(path)\n",
    "browser = webdriver.Chrome(service=s)"
   ]
  },
  {
   "cell_type": "markdown",
   "id": "43f8d624",
   "metadata": {},
   "source": [
    "## Scraping movie reviews from Rotten Tomatoes"
   ]
  },
  {
   "cell_type": "code",
   "execution_count": 4,
   "id": "3b20fee0",
   "metadata": {},
   "outputs": [],
   "source": [
    "#creating a function to check if the 'next page' button exists\n",
    "def check_exists_by_xpath(xpath):\n",
    "    try:\n",
    "        browser.find_element(By.XPATH,xpath)\n",
    "    except NoSuchElementException:\n",
    "        return False\n",
    "    return True"
   ]
  },
  {
   "cell_type": "markdown",
   "id": "7f23474f",
   "metadata": {},
   "source": [
    "The list of extracted and cleaned movie names can be accessed by the following google sheet https://docs.google.com/spreadsheets/d/1hjKu8tq5UaVoFn3YFNil-ho9HkmUxmxIIlfMjmuvisg/edit?usp=share_link"
   ]
  },
  {
   "cell_type": "code",
   "execution_count": 8,
   "id": "1c921ffc",
   "metadata": {},
   "outputs": [],
   "source": [
    "movie = ['cars','fire_of_love', 'enola_holmes_2', 'all_quiet_on_the_western_front', 'causeway', 'the_good_nurse', 'sissy', 'enola_holmes', 'wendell_&_wild', 'pearl', 'everything_everywhere_all_at_once', 'inside_man', 'soft_&_quiet', 'the_northman', 'the_batman', 'werewolf_by_night', 'the_innocents', 'the_bad_guys', 'confess,_fletch', 'mrs._harris_goes_to_paris', 'avatar', 'elvis', 'prey', 'hellbender', 'argentina,_1985', 'hereditary', 'the_lost_city', 'vengeance', 'avengers:_endgame', 'speak_no_evil', 'interstellar', 'it_follows', 'you_won\\'t_be_alone', 'good_luck_to_you,_leo_grande', 'do_revenge', 'his_house', 'piggy', 'knives_out', 'hustle', 'vesper', 'the_outfit', 'the_gentlemen', 'dune', 'get_out', 'let_the_right_one_in', 'midsommar', 'marcel_the_shell_with_shoes_on', 'greenland', 'we\\'re_all_going_to_the_world\\'s_fair', 'thirteen_lives', 'the_power_of_the_dog', 'shang-chi_and_the_legend_of_the_ten_rings', 'the_dark_knight', 'the_witch', 'mad_god', 'saloum', 'last_night_in_soho', 'rosaline', 'pig', 'lightyear', 'marvel\\'s_the_avengers', 'jungleland', 'coco', 'paddington_2', 'fight_club', 'the_suicide_squad', 'avengers:_infinity_war', 'a_hero', 'it', 'in_bruges', 'whiplash', 'nobody', 'star_wars:_the_last_jedi', 'parasite', 'happening', 'no_time_to_die', 'captain_marvel', 'us', 'catherine_called_birdy', 'doctor_sleep', 'blade_runner_2049', 'what_josiah_saw', 'operation_mincemeat', 'halloween', 'v_for_vendetta', 'fresh', 'call_me_by_your_name', 'up_in_the_air', 'nightmare_alley', 'the_shawshank_redemption', 'shazam!', 'coraline', 'back_to_the_future', 'still_alice', 'run', '1917', 'the_nice_guys', 'black_widow', 'the_babadook', 'i\\'m_thinking_of_ending_things', 'notting_hill', 'malignant', 'athena', 'the_lord_of_the_rings:_the_two_towers', 'hatching', 'the_invitation', 'the_french_dispatch', 'the_shining', 'the_rental', 'the_godfather', 'the_nightmare_before_christmas', 'turning_red', 'leave_no_trace', 'resurrection', 'free_guy', 'the_sadness', 'the_terminator', 'coda', 'the_pledge', 'v/h/s/99', 'once_upon_a_time..._in_hollywood', 'titanic', 'spider-man:_into_the_spider-verse', 'the_conjuring', 'iron_man', 'the_night_house', 'the_green_knight', 'ingrid_goes_west', 'the_last_duel', 'the_exorcist', 'the_lord_of_the_rings:_the_fellowship_of_the_ring', 'annihilation', 'downton_abbey:_a_new_era', 'spirited_away', 'to_leslie', 'candyman', 'louis_armstrong\\'s_black_&_blues', 'harry_potter_and_the_sorcerer\\'s_stone', 'godzilla_vs._kong', 'host', 'the_lighthouse', 'arrival', 'ad_astra', 'boiling_point', 'john_wick', 'el_camino:_a_breaking_bad_movie', 'the_handmaiden', 'hell_or_high_water', 'lamb', 'slash/back', '28_days_later', 'a_quiet_place_part_ii', 'the_courier', 'a_quiet_place', 'uncut_gems', 'wind_river', 'the_invisible_man', 'you_are_not_my_mother', 'the_sea_beast', 'encanto', 'rogue_one:_a_star_wars_story', 'prisoners', 'eyes_wide_shut', 'the_lost_daughter', 'the_favourite', 'inception', 'django_unchained', 'baby_driver', 'little_women', 'the_square', 'pulp_fiction', 'man_from_reno', 'dunkirk', 'spider-man:_far_from_home', 'cha_cha_real_smooth', 'seven', 'the_wolf_of_wall_street', 'the_lord_of_the_rings:_the_return_of_the_king', 'belfast', 'thor:_ragnarok', 'margin_call', 'manchester_by_the_sea', 'captain_america:_civil_war', 'after_yang', 'sicario', 'three_billboards_outside_ebbing,_missouri', 'promising_young_woman', 'a_christmas_story', 'drive_my_car', 'captain_america:_the_first_avenger', 'mandy', 'hush', 'the_harder_they_fall', 'the_fallout', 'the_grand_budapest_hotel', 'the_wailing', 'no_country_for_old_men', 'sexy_beast', 'ford_v_ferrari', 'the_hunger_games', 'sorry_to_bother_you', 'hacksaw_ridge', 'jojo_rabbit', 'the_silence_of_the_lambs', 'herself', 'train_to_busan', 'gladiator', 'the_irishman', 'the_truman_show', 'raw', 'toy_story', 'the_cabin_in_the_woods', 'eternal_sunshine_of_the_spotless_mind', 'deadpool', 'drive', 'gerald\\'s_game', 'collateral', 'the_texas_chain_saw_massacre', 'how_to_train_your_dragon', 'schindler\\'s_list', 'hunt_for_the_wilderpeople', 'star_wars:_episode_iii_--_revenge_of_the_sith', 'captain_america:_the_winter_soldier', 'the_killing_of_a_sacred_deer', 'logan', 'avengers:_age_of_ultron', 'scream', 'star_wars:_the_force_awakens', 'harry_potter_and_the_deathly_hallows:_part_2', 'la_la_land', 'jujutsu_kaisen_0:_the_movie', 'nightcrawler', 'primal_fear', 'let_him_go', 'memento', '1922', 'if_beale_street_could_talk', 'john_wick:_chapter_3_--_parabellum', 'guardians_of_the_galaxy', 'the_gift', 'spider-man:_homecoming', 'source_code', 'god\\'s_country', 'kimi', 'the_green_mile', 'lady_bird', 'spencer', 'creed', 'the_big_sick', 'the_platform', 'tim_burton\\'s_corpse_bride', 'snowpiercer', 'scary_stories_to_tell_in_the_dark', 'the_matrix', 'booksmart', '8_mile', 'ready_or_not', 'beetlejuice', 'while_we\\'re_young', 'planes,_trains_and_automobiles', 'the_dark_knight_rises', 'edge_of_tomorrow', 'cruella', 'saving_private_ryan', 'shrek', 'good_will_hunting', 'alien', 'kung_fu_panda', 'taxi_driver', 'the_conjuring_2', 'old_henry', 'stalker', 'inglourious_basterds', 'mad_max:_fury_road', 'the_father', 'west_side_story', 'a_clockwork_orange', 'birds_of_prey_(and_the_fantabulous_emancipation_of_one_harley_quinn)', 'the_shape_of_water', 'fury', 'red_rocket', 'the_big_short', 'almost_famous', 'under_the_shadow', 'goodfellas', 'the_thing', 'wonder_woman', 'zootopia', 'ready_player_one', 'your_name', 'high_life', 'donnie_darko', 'pan\\'s_labyrinth', 'tangerine', 'the_guard', 'iron_man_3', '2001:_a_space_odyssey', 'cars', 'this_is_the_end', 'her', 'the_descent', 'doctor_strange', 'state_of_play', 'tick,_tick..._boom!', 'ghostbusters', 'the_blair_witch_project', 'jurassic_park', 'the_lost_city_of_z', 'american_beauty', 'a_nightmare_on_elm_street', 'casino_royale', 'match_point', 'spider-man_2', 'bram_stoker\\'s_dracula', 'mean_girls', 'skyfall', 'the_firm', 'children_of_men', 'king_richard', 'the_endless', 'road_to_perdition', 'the_card_counter']\n",
    "pageNum = 3\n",
    "title = []\n",
    "critics = []\n",
    "ratings = []\n",
    "sources = []\n",
    "texts = []\n",
    "dates = []\n",
    "\n",
    "for j in movie:\n",
    "    browser.get(\"https://www.rottentomatoes.com/m/\"+j+\"/reviews\")\n",
    "    time.sleep(2)\n",
    "    for i in range(0, pageNum):\n",
    "\n",
    "\n",
    "        page_source = browser.page_source\n",
    "        soup = BeautifulSoup(page_source, 'lxml')\n",
    "        reviews_content = soup.find_all('div', class_='row review_table_row')\n",
    "\n",
    "        for review in reviews_content:\n",
    "            critic = review.find('a', class_='unstyled bold articleLink').text\n",
    "            rating_ = review.find('div',class_ ='col-xs-16 review_container').div['class']\n",
    "            rating = rating_[3]\n",
    "            source = review.find('em', class_='subtle critic-publication').text.strip()\n",
    "            text = review.find('div', class_='the_review').text.strip()\n",
    "            date = review.find('div', class_='review-date subtle small').text.strip()\n",
    "\n",
    "            if not critic:\n",
    "                critic = \"NA\"\n",
    "            if not rating:\n",
    "                rating = \"NA\"\n",
    "            if not source:\n",
    "                source = \"NA\"\n",
    "            if not text:\n",
    "                text = \"NA\"\n",
    "            if not date:\n",
    "                date = \"NA\"\n",
    "\n",
    "            title.append(j)\n",
    "            critics.append(critic)\n",
    "            ratings.append(rating)\n",
    "            sources.append(source)\n",
    "            texts.append(text)\n",
    "            dates.append(date)\n",
    "\n",
    "        if (check_exists_by_xpath('//button[@class=\"js-prev-next-paging-next btn prev-next-paging__button prev-next-paging__button-right\"]')):\n",
    "            browser.find_element(By.XPATH,'//button[@class=\"js-prev-next-paging-next btn prev-next-paging__button prev-next-paging__button-right\"]').click()\n",
    "            time.sleep(1)\n",
    "\n",
    "\n"
   ]
  },
  {
   "cell_type": "code",
   "execution_count": 9,
   "id": "1763e960",
   "metadata": {},
   "outputs": [],
   "source": [
    "data = {\n",
    "    'movie_name':title,\n",
    "    'critics':critics,\n",
    "    'ratings':ratings,\n",
    "    'sources':sources,\n",
    "    'texts': texts,\n",
    "    'dates':dates\n",
    "}\n",
    "\n",
    "df = pd.DataFrame(data)"
   ]
  },
  {
   "cell_type": "code",
   "execution_count": 10,
   "id": "17b7459a",
   "metadata": {},
   "outputs": [
    {
     "data": {
      "text/plain": [
       "(11835, 6)"
      ]
     },
     "execution_count": 10,
     "metadata": {},
     "output_type": "execute_result"
    }
   ],
   "source": [
    "df.shape"
   ]
  },
  {
   "cell_type": "code",
   "execution_count": 11,
   "id": "83a701fe",
   "metadata": {},
   "outputs": [
    {
     "data": {
      "text/html": [
       "<div>\n",
       "<style scoped>\n",
       "    .dataframe tbody tr th:only-of-type {\n",
       "        vertical-align: middle;\n",
       "    }\n",
       "\n",
       "    .dataframe tbody tr th {\n",
       "        vertical-align: top;\n",
       "    }\n",
       "\n",
       "    .dataframe thead th {\n",
       "        text-align: right;\n",
       "    }\n",
       "</style>\n",
       "<table border=\"1\" class=\"dataframe\">\n",
       "  <thead>\n",
       "    <tr style=\"text-align: right;\">\n",
       "      <th></th>\n",
       "      <th>movie_name</th>\n",
       "      <th>critics</th>\n",
       "      <th>ratings</th>\n",
       "      <th>sources</th>\n",
       "      <th>texts</th>\n",
       "      <th>dates</th>\n",
       "    </tr>\n",
       "  </thead>\n",
       "  <tbody>\n",
       "    <tr>\n",
       "      <th>0</th>\n",
       "      <td>cars</td>\n",
       "      <td>Mike Massie</td>\n",
       "      <td>rotten</td>\n",
       "      <td>Gone With The Twins</td>\n",
       "      <td>The film's two-hour length is unbearable for a...</td>\n",
       "      <td>Nov 15, 2020</td>\n",
       "    </tr>\n",
       "    <tr>\n",
       "      <th>1</th>\n",
       "      <td>cars</td>\n",
       "      <td>Alberto Abuín</td>\n",
       "      <td>fresh</td>\n",
       "      <td>Espinof</td>\n",
       "      <td>An absolute wonder that... gives us almost two...</td>\n",
       "      <td>Feb 12, 2020</td>\n",
       "    </tr>\n",
       "    <tr>\n",
       "      <th>2</th>\n",
       "      <td>cars</td>\n",
       "      <td>Micheal Compton</td>\n",
       "      <td>fresh</td>\n",
       "      <td>Bowling Green Daily News</td>\n",
       "      <td>Children will love the Toy Story-like simplici...</td>\n",
       "      <td>Nov 19, 2019</td>\n",
       "    </tr>\n",
       "    <tr>\n",
       "      <th>3</th>\n",
       "      <td>cars</td>\n",
       "      <td>Matt Brunson</td>\n",
       "      <td>fresh</td>\n",
       "      <td>Film Frenzy</td>\n",
       "      <td>The movie's Route 66 mythology, coupled with t...</td>\n",
       "      <td>Jun 20, 2019</td>\n",
       "    </tr>\n",
       "    <tr>\n",
       "      <th>4</th>\n",
       "      <td>cars</td>\n",
       "      <td>Mattie Lucas</td>\n",
       "      <td>fresh</td>\n",
       "      <td>The Dispatch (Lexington, NC)</td>\n",
       "      <td>Its simple elegy for a once-buzzing small town...</td>\n",
       "      <td>Jun 5, 2019</td>\n",
       "    </tr>\n",
       "    <tr>\n",
       "      <th>...</th>\n",
       "      <td>...</td>\n",
       "      <td>...</td>\n",
       "      <td>...</td>\n",
       "      <td>...</td>\n",
       "      <td>...</td>\n",
       "      <td>...</td>\n",
       "    </tr>\n",
       "    <tr>\n",
       "      <th>11830</th>\n",
       "      <td>the_card_counter</td>\n",
       "      <td>Matt Hudson</td>\n",
       "      <td>fresh</td>\n",
       "      <td>What I Watched Tonight</td>\n",
       "      <td>Powered by Isaac's excellent performance, The ...</td>\n",
       "      <td>Nov 5, 2021</td>\n",
       "    </tr>\n",
       "    <tr>\n",
       "      <th>11831</th>\n",
       "      <td>the_card_counter</td>\n",
       "      <td>Paul Whitington</td>\n",
       "      <td>fresh</td>\n",
       "      <td>Irish Independent</td>\n",
       "      <td>This is a powerful, grimly substantial film, a...</td>\n",
       "      <td>Nov 4, 2021</td>\n",
       "    </tr>\n",
       "    <tr>\n",
       "      <th>11832</th>\n",
       "      <td>the_card_counter</td>\n",
       "      <td>Raphael Abraham</td>\n",
       "      <td>fresh</td>\n",
       "      <td>Financial Times</td>\n",
       "      <td>The film-maker shows his unblunted gift for wr...</td>\n",
       "      <td>Nov 3, 2021</td>\n",
       "    </tr>\n",
       "    <tr>\n",
       "      <th>11833</th>\n",
       "      <td>the_card_counter</td>\n",
       "      <td>Peter Bradshaw</td>\n",
       "      <td>fresh</td>\n",
       "      <td>Guardian</td>\n",
       "      <td>There's a horrible, queasy urgency to this hig...</td>\n",
       "      <td>Nov 3, 2021</td>\n",
       "    </tr>\n",
       "    <tr>\n",
       "      <th>11834</th>\n",
       "      <td>the_card_counter</td>\n",
       "      <td>Alistair Harkness</td>\n",
       "      <td>fresh</td>\n",
       "      <td>Scotsman</td>\n",
       "      <td>The Card Counter sees Paul Schrader enjoying a...</td>\n",
       "      <td>Nov 3, 2021</td>\n",
       "    </tr>\n",
       "  </tbody>\n",
       "</table>\n",
       "<p>11835 rows × 6 columns</p>\n",
       "</div>"
      ],
      "text/plain": [
       "             movie_name            critics ratings  \\\n",
       "0                  cars        Mike Massie  rotten   \n",
       "1                  cars      Alberto Abuín   fresh   \n",
       "2                  cars    Micheal Compton   fresh   \n",
       "3                  cars       Matt Brunson   fresh   \n",
       "4                  cars       Mattie Lucas   fresh   \n",
       "...                 ...                ...     ...   \n",
       "11830  the_card_counter        Matt Hudson   fresh   \n",
       "11831  the_card_counter    Paul Whitington   fresh   \n",
       "11832  the_card_counter    Raphael Abraham   fresh   \n",
       "11833  the_card_counter     Peter Bradshaw   fresh   \n",
       "11834  the_card_counter  Alistair Harkness   fresh   \n",
       "\n",
       "                            sources  \\\n",
       "0               Gone With The Twins   \n",
       "1                           Espinof   \n",
       "2          Bowling Green Daily News   \n",
       "3                       Film Frenzy   \n",
       "4      The Dispatch (Lexington, NC)   \n",
       "...                             ...   \n",
       "11830        What I Watched Tonight   \n",
       "11831             Irish Independent   \n",
       "11832               Financial Times   \n",
       "11833                      Guardian   \n",
       "11834                      Scotsman   \n",
       "\n",
       "                                                   texts         dates  \n",
       "0      The film's two-hour length is unbearable for a...  Nov 15, 2020  \n",
       "1      An absolute wonder that... gives us almost two...  Feb 12, 2020  \n",
       "2      Children will love the Toy Story-like simplici...  Nov 19, 2019  \n",
       "3      The movie's Route 66 mythology, coupled with t...  Jun 20, 2019  \n",
       "4      Its simple elegy for a once-buzzing small town...   Jun 5, 2019  \n",
       "...                                                  ...           ...  \n",
       "11830  Powered by Isaac's excellent performance, The ...   Nov 5, 2021  \n",
       "11831  This is a powerful, grimly substantial film, a...   Nov 4, 2021  \n",
       "11832  The film-maker shows his unblunted gift for wr...   Nov 3, 2021  \n",
       "11833  There's a horrible, queasy urgency to this hig...   Nov 3, 2021  \n",
       "11834  The Card Counter sees Paul Schrader enjoying a...   Nov 3, 2021  \n",
       "\n",
       "[11835 rows x 6 columns]"
      ]
     },
     "execution_count": 11,
     "metadata": {},
     "output_type": "execute_result"
    }
   ],
   "source": [
    "df"
   ]
  },
  {
   "cell_type": "markdown",
   "id": "55b6d825",
   "metadata": {},
   "source": [
    "# Cleaning up the text"
   ]
  },
  {
   "cell_type": "code",
   "execution_count": 12,
   "id": "c91d5b7b",
   "metadata": {},
   "outputs": [],
   "source": [
    "import nltk\n",
    "from nltk.corpus import stopwords"
   ]
  },
  {
   "cell_type": "code",
   "execution_count": 13,
   "id": "3bc66a81",
   "metadata": {},
   "outputs": [],
   "source": [
    "stopword = nltk.corpus.stopwords.words('english')\n",
    "stopword.append('I')\n",
    "stopword.append('the')\n",
    "stopword.append('The')"
   ]
  },
  {
   "cell_type": "code",
   "execution_count": 14,
   "id": "46971d86",
   "metadata": {},
   "outputs": [],
   "source": [
    "import string\n",
    "punc = string.punctuation"
   ]
  },
  {
   "cell_type": "code",
   "execution_count": 15,
   "id": "e96cd7fa",
   "metadata": {},
   "outputs": [],
   "source": [
    "#removing stopwords\n",
    "df['texts'] = df['texts'].apply(lambda x: ' '.join([word for word in x.split() if word.lower() not in (stopword)]))"
   ]
  },
  {
   "cell_type": "code",
   "execution_count": 16,
   "id": "5fa6f22f",
   "metadata": {},
   "outputs": [],
   "source": [
    "#removing punctuations\n",
    "def remove_punctuation(text):\n",
    "    no_punct=[words for words in text if words not in punc]\n",
    "    words_wo_punct=''.join(no_punct)\n",
    "    return words_wo_punct\n",
    "df['texts']=df['texts'].apply(lambda x: remove_punctuation(x))"
   ]
  },
  {
   "cell_type": "code",
   "execution_count": 17,
   "id": "90fd2345",
   "metadata": {},
   "outputs": [
    {
     "data": {
      "text/html": [
       "<div>\n",
       "<style scoped>\n",
       "    .dataframe tbody tr th:only-of-type {\n",
       "        vertical-align: middle;\n",
       "    }\n",
       "\n",
       "    .dataframe tbody tr th {\n",
       "        vertical-align: top;\n",
       "    }\n",
       "\n",
       "    .dataframe thead th {\n",
       "        text-align: right;\n",
       "    }\n",
       "</style>\n",
       "<table border=\"1\" class=\"dataframe\">\n",
       "  <thead>\n",
       "    <tr style=\"text-align: right;\">\n",
       "      <th></th>\n",
       "      <th>movie_name</th>\n",
       "      <th>critics</th>\n",
       "      <th>ratings</th>\n",
       "      <th>sources</th>\n",
       "      <th>texts</th>\n",
       "      <th>dates</th>\n",
       "    </tr>\n",
       "  </thead>\n",
       "  <tbody>\n",
       "    <tr>\n",
       "      <th>0</th>\n",
       "      <td>cars</td>\n",
       "      <td>Mike Massie</td>\n",
       "      <td>rotten</td>\n",
       "      <td>Gone With The Twins</td>\n",
       "      <td>films twohour length unbearable animated feature</td>\n",
       "      <td>Nov 15, 2020</td>\n",
       "    </tr>\n",
       "    <tr>\n",
       "      <th>1</th>\n",
       "      <td>cars</td>\n",
       "      <td>Alberto Abuín</td>\n",
       "      <td>fresh</td>\n",
       "      <td>Espinof</td>\n",
       "      <td>absolute wonder that gives us almost two hours...</td>\n",
       "      <td>Feb 12, 2020</td>\n",
       "    </tr>\n",
       "    <tr>\n",
       "      <th>2</th>\n",
       "      <td>cars</td>\n",
       "      <td>Micheal Compton</td>\n",
       "      <td>fresh</td>\n",
       "      <td>Bowling Green Daily News</td>\n",
       "      <td>Children love Toy Storylike simplicity adults ...</td>\n",
       "      <td>Nov 19, 2019</td>\n",
       "    </tr>\n",
       "    <tr>\n",
       "      <th>3</th>\n",
       "      <td>cars</td>\n",
       "      <td>Matt Brunson</td>\n",
       "      <td>fresh</td>\n",
       "      <td>Film Frenzy</td>\n",
       "      <td>movies Route 66 mythology coupled presence Pau...</td>\n",
       "      <td>Jun 20, 2019</td>\n",
       "    </tr>\n",
       "    <tr>\n",
       "      <th>4</th>\n",
       "      <td>cars</td>\n",
       "      <td>Mattie Lucas</td>\n",
       "      <td>fresh</td>\n",
       "      <td>The Dispatch (Lexington, NC)</td>\n",
       "      <td>simple elegy oncebuzzing small town bypassed i...</td>\n",
       "      <td>Jun 5, 2019</td>\n",
       "    </tr>\n",
       "  </tbody>\n",
       "</table>\n",
       "</div>"
      ],
      "text/plain": [
       "  movie_name          critics ratings                       sources  \\\n",
       "0       cars      Mike Massie  rotten           Gone With The Twins   \n",
       "1       cars    Alberto Abuín   fresh                       Espinof   \n",
       "2       cars  Micheal Compton   fresh      Bowling Green Daily News   \n",
       "3       cars     Matt Brunson   fresh                   Film Frenzy   \n",
       "4       cars     Mattie Lucas   fresh  The Dispatch (Lexington, NC)   \n",
       "\n",
       "                                               texts         dates  \n",
       "0   films twohour length unbearable animated feature  Nov 15, 2020  \n",
       "1  absolute wonder that gives us almost two hours...  Feb 12, 2020  \n",
       "2  Children love Toy Storylike simplicity adults ...  Nov 19, 2019  \n",
       "3  movies Route 66 mythology coupled presence Pau...  Jun 20, 2019  \n",
       "4  simple elegy oncebuzzing small town bypassed i...   Jun 5, 2019  "
      ]
     },
     "execution_count": 17,
     "metadata": {},
     "output_type": "execute_result"
    }
   ],
   "source": [
    "df.head()"
   ]
  },
  {
   "cell_type": "code",
   "execution_count": 18,
   "id": "7b72ccc1",
   "metadata": {},
   "outputs": [
    {
     "name": "stdout",
     "output_type": "stream",
     "text": [
      "<class 'pandas.core.frame.DataFrame'>\n",
      "RangeIndex: 11835 entries, 0 to 11834\n",
      "Data columns (total 6 columns):\n",
      " #   Column      Non-Null Count  Dtype \n",
      "---  ------      --------------  ----- \n",
      " 0   movie_name  11835 non-null  object\n",
      " 1   critics     11835 non-null  object\n",
      " 2   ratings     11835 non-null  object\n",
      " 3   sources     11835 non-null  object\n",
      " 4   texts       11835 non-null  object\n",
      " 5   dates       11835 non-null  object\n",
      "dtypes: object(6)\n",
      "memory usage: 554.9+ KB\n"
     ]
    }
   ],
   "source": [
    "#checking for nulls\n",
    "df.info()"
   ]
  },
  {
   "cell_type": "markdown",
   "id": "0a1f7444",
   "metadata": {},
   "source": [
    "## EDA"
   ]
  },
  {
   "cell_type": "code",
   "execution_count": null,
   "id": "40c91b8f",
   "metadata": {},
   "outputs": [],
   "source": [
    "import os\n",
    "import numpy as np\n",
    "import pandas as pd\n",
    "import math\n",
    "import matplotlib.pylab as plt\n",
    "import seaborn as sns\n",
    "\n",
    "%matplotlib inline\n",
    "sns.set(style='ticks', palette='Set2')"
   ]
  },
  {
   "cell_type": "code",
   "execution_count": 76,
   "id": "712342cb",
   "metadata": {},
   "outputs": [
    {
     "name": "stdout",
     "output_type": "stream",
     "text": [
      "There are 213 distinct movies in our review set\n"
     ]
    }
   ],
   "source": [
    "#checking the number of unique movies\n",
    "n = len(pd.unique(df['movie_name']))\n",
    "print(f'There are {n} distinct movies in our review set')"
   ]
  },
  {
   "cell_type": "code",
   "execution_count": 72,
   "id": "5fcb3a61",
   "metadata": {},
   "outputs": [
    {
     "data": {
      "text/plain": [
       "movie_name\n",
       "cars             120\n",
       "28_days_later     60\n",
       "scream            60\n",
       "seven             60\n",
       "sexy_beast        60\n",
       "                ... \n",
       "spencer            3\n",
       "wind_river         3\n",
       "arrival            3\n",
       "ready_or_not       3\n",
       "pig                3\n",
       "Length: 213, dtype: int64"
      ]
     },
     "execution_count": 72,
     "metadata": {},
     "output_type": "execute_result"
    }
   ],
   "source": [
    "#movies and the number of reviews for each\n",
    "df.groupby('movie_name').size().sort_values(ascending=False)\n"
   ]
  },
  {
   "cell_type": "code",
   "execution_count": 73,
   "id": "bc1ad55a",
   "metadata": {},
   "outputs": [
    {
     "data": {
      "text/plain": [
       "movie_name\n",
       "cars                       120\n",
       "28_days_later               60\n",
       "scream                      60\n",
       "seven                       60\n",
       "sexy_beast                  60\n",
       "shrek                       60\n",
       "sissy                       60\n",
       "skyfall                     60\n",
       "snowpiercer                 60\n",
       "sorry_to_bother_you         60\n",
       "source_code                 60\n",
       "spirited_away               60\n",
       "still_alice                 60\n",
       "taxi_driver                 60\n",
       "the_babadook                60\n",
       "the_batman                  60\n",
       "the_big_short               60\n",
       "the_big_sick                60\n",
       "the_blair_witch_project     60\n",
       "the_cabin_in_the_woods      60\n",
       "dtype: int64"
      ]
     },
     "execution_count": 73,
     "metadata": {},
     "output_type": "execute_result"
    }
   ],
   "source": [
    "#top 20 movies with most number of reviews\n",
    "b = df.groupby('movie_name').size().sort_values(ascending=False)\n",
    "b.head(20)"
   ]
  },
  {
   "cell_type": "code",
   "execution_count": 123,
   "id": "e5d8da46",
   "metadata": {},
   "outputs": [
    {
     "data": {
      "text/plain": [
       "ratings\n",
       "fresh     10440\n",
       "rotten     1395\n",
       "dtype: int64"
      ]
     },
     "execution_count": 123,
     "metadata": {},
     "output_type": "execute_result"
    }
   ],
   "source": [
    "df.groupby('ratings').size()"
   ]
  },
  {
   "cell_type": "code",
   "execution_count": 47,
   "id": "46b854a4",
   "metadata": {},
   "outputs": [
    {
     "name": "stderr",
     "output_type": "stream",
     "text": [
      "C:\\Users\\Devaki\\anaconda3\\lib\\site-packages\\seaborn\\_decorators.py:36: FutureWarning: Pass the following variable as a keyword arg: x. From version 0.12, the only valid positional argument will be `data`, and passing other arguments without an explicit keyword will result in an error or misinterpretation.\n",
      "  warnings.warn(\n"
     ]
    },
    {
     "data": {
      "image/png": "[encoded data removed]",
      "text/plain": [
       "<Figure size 576x432 with 1 Axes>"
      ]
     },
     "metadata": {},
     "output_type": "display_data"
    }
   ],
   "source": [
    "#Distribution of positive and negative ratings\n",
    "#we notice there is a major class imbalance, with majority reviews belonging to the 'fresh' or positive class\n",
    "plt.figure(figsize = (8,6))\n",
    "sns.countplot(df['ratings'], color = 'tab:red')\n",
    "plt.title('Distribution of Ratings')\n",
    "plt.show()"
   ]
  },
  {
   "cell_type": "markdown",
   "id": "ff5047d3",
   "metadata": {},
   "source": [
    "Out of 11835 reviews, 10440 are of the class ‘fresh’ or positive, while only 1395 are of the class ‘rotten’ or negative. Due to this class imbalance, when we are evaluating our model performance we cannot only look at accuracy as a measure and will need to look at precision and recall to get a more accurate picture of our model’s performance. "
   ]
  },
  {
   "cell_type": "code",
   "execution_count": null,
   "id": "f2fc7960",
   "metadata": {},
   "outputs": [],
   "source": [
    "ax.bar_label(ax.containers[0])"
   ]
  },
  {
   "cell_type": "code",
   "execution_count": 54,
   "id": "48762e48",
   "metadata": {},
   "outputs": [
    {
     "data": {
      "text/plain": [
       "sources\n",
       "Gone With The Twins                    102\n",
       "Deep Focus Review                      101\n",
       "Keith & the Movies                      83\n",
       "Espinof                                 75\n",
       "Cinemaficionados                        67\n",
       "                                      ... \n",
       "Diario La Estrella (Fort Worth, TX)      1\n",
       "Screen Comment                           1\n",
       "Doddle                                   1\n",
       "Dolores Quintana                         1\n",
       "Dayton Daily News                        1\n",
       "Length: 1460, dtype: int64"
      ]
     },
     "execution_count": 54,
     "metadata": {},
     "output_type": "execute_result"
    }
   ],
   "source": [
    "#Checking the count of each review source\n",
    "df.groupby('sources').size().sort_values(ascending=False)"
   ]
  },
  {
   "cell_type": "code",
   "execution_count": 55,
   "id": "1a65f370",
   "metadata": {},
   "outputs": [
    {
     "data": {
      "text/plain": [
       "sources\n",
       "Gone With The Twins         102\n",
       "Deep Focus Review           101\n",
       "Keith & the Movies           83\n",
       "Espinof                      75\n",
       "Cinemaficionados             67\n",
       "Film Frenzy                  60\n",
       "Battleship Pretension        58\n",
       "Rob's Movie Vault            57\n",
       "Time Out                     57\n",
       "TheIndependentCritic.com     56\n",
       "Common Sense Media           53\n",
       "Reel Film Reviews            53\n",
       "Radio Times                  53\n",
       "Times (UK)                   52\n",
       "Guardian                     51\n",
       "dtype: int64"
      ]
     },
     "execution_count": 55,
     "metadata": {},
     "output_type": "execute_result"
    }
   ],
   "source": [
    "#Top 15 sources\n",
    "source_count = df.groupby('sources').size().sort_values(ascending=False)\n",
    "source_count.head(15)"
   ]
  },
  {
   "cell_type": "code",
   "execution_count": 61,
   "id": "9a8fcf6d",
   "metadata": {},
   "outputs": [],
   "source": [
    "a = source_count.head(15)\n"
   ]
  },
  {
   "cell_type": "code",
   "execution_count": 68,
   "id": "22998ea4",
   "metadata": {},
   "outputs": [
    {
     "data": {
      "text/plain": [
       "<AxesSubplot:ylabel='sources'>"
      ]
     },
     "execution_count": 68,
     "metadata": {},
     "output_type": "execute_result"
    },
    {
     "data": {
      "image/png": "[encoded data removed]",
      "text/plain": [
       "<Figure size 432x288 with 1 Axes>"
      ]
     },
     "metadata": {},
     "output_type": "display_data"
    }
   ],
   "source": [
    "a = pd.DataFrame(a, columns=['source'])\n",
    "a.plot(kind='barh', color='orange')"
   ]
  },
  {
   "cell_type": "code",
   "execution_count": 91,
   "id": "c6539fee",
   "metadata": {},
   "outputs": [],
   "source": [
    "#converting the dates to date/time format so we can extract the years\n",
    "df['dates'] = pd.to_datetime(df['dates'])\n",
    "df['year'] = df['dates'].dt.to_period('y')"
   ]
  },
  {
   "cell_type": "code",
   "execution_count": 93,
   "id": "5cc40e44",
   "metadata": {},
   "outputs": [],
   "source": [
    "#counting the number of reviews per year\n",
    "df_dates = df.groupby('year')[['ratings']].count()\n",
    "df_dates = df_dates.reset_index() #reset the index\n",
    "df_dates.columns = ['year', 'Review_count']\n",
    "\n",
    "\n"
   ]
  },
  {
   "cell_type": "code",
   "execution_count": 94,
   "id": "9bde07b6",
   "metadata": {
    "scrolled": true
   },
   "outputs": [
    {
     "data": {
      "text/html": [
       "<div>\n",
       "<style scoped>\n",
       "    .dataframe tbody tr th:only-of-type {\n",
       "        vertical-align: middle;\n",
       "    }\n",
       "\n",
       "    .dataframe tbody tr th {\n",
       "        vertical-align: top;\n",
       "    }\n",
       "\n",
       "    .dataframe thead th {\n",
       "        text-align: right;\n",
       "    }\n",
       "</style>\n",
       "<table border=\"1\" class=\"dataframe\">\n",
       "  <thead>\n",
       "    <tr style=\"text-align: right;\">\n",
       "      <th></th>\n",
       "      <th>year</th>\n",
       "      <th>Review_count</th>\n",
       "    </tr>\n",
       "  </thead>\n",
       "  <tbody>\n",
       "    <tr>\n",
       "      <th>0</th>\n",
       "      <td>2000</td>\n",
       "      <td>93</td>\n",
       "    </tr>\n",
       "    <tr>\n",
       "      <th>1</th>\n",
       "      <td>2001</td>\n",
       "      <td>87</td>\n",
       "    </tr>\n",
       "    <tr>\n",
       "      <th>2</th>\n",
       "      <td>2002</td>\n",
       "      <td>147</td>\n",
       "    </tr>\n",
       "    <tr>\n",
       "      <th>3</th>\n",
       "      <td>2003</td>\n",
       "      <td>159</td>\n",
       "    </tr>\n",
       "    <tr>\n",
       "      <th>4</th>\n",
       "      <td>2004</td>\n",
       "      <td>160</td>\n",
       "    </tr>\n",
       "    <tr>\n",
       "      <th>5</th>\n",
       "      <td>2005</td>\n",
       "      <td>126</td>\n",
       "    </tr>\n",
       "    <tr>\n",
       "      <th>6</th>\n",
       "      <td>2006</td>\n",
       "      <td>266</td>\n",
       "    </tr>\n",
       "    <tr>\n",
       "      <th>7</th>\n",
       "      <td>2007</td>\n",
       "      <td>204</td>\n",
       "    </tr>\n",
       "    <tr>\n",
       "      <th>8</th>\n",
       "      <td>2008</td>\n",
       "      <td>170</td>\n",
       "    </tr>\n",
       "    <tr>\n",
       "      <th>9</th>\n",
       "      <td>2009</td>\n",
       "      <td>173</td>\n",
       "    </tr>\n",
       "    <tr>\n",
       "      <th>10</th>\n",
       "      <td>2010</td>\n",
       "      <td>223</td>\n",
       "    </tr>\n",
       "    <tr>\n",
       "      <th>11</th>\n",
       "      <td>2011</td>\n",
       "      <td>133</td>\n",
       "    </tr>\n",
       "    <tr>\n",
       "      <th>12</th>\n",
       "      <td>2012</td>\n",
       "      <td>146</td>\n",
       "    </tr>\n",
       "    <tr>\n",
       "      <th>13</th>\n",
       "      <td>2013</td>\n",
       "      <td>282</td>\n",
       "    </tr>\n",
       "    <tr>\n",
       "      <th>14</th>\n",
       "      <td>2014</td>\n",
       "      <td>326</td>\n",
       "    </tr>\n",
       "    <tr>\n",
       "      <th>15</th>\n",
       "      <td>2015</td>\n",
       "      <td>361</td>\n",
       "    </tr>\n",
       "    <tr>\n",
       "      <th>16</th>\n",
       "      <td>2016</td>\n",
       "      <td>328</td>\n",
       "    </tr>\n",
       "    <tr>\n",
       "      <th>17</th>\n",
       "      <td>2017</td>\n",
       "      <td>430</td>\n",
       "    </tr>\n",
       "    <tr>\n",
       "      <th>18</th>\n",
       "      <td>2018</td>\n",
       "      <td>773</td>\n",
       "    </tr>\n",
       "    <tr>\n",
       "      <th>19</th>\n",
       "      <td>2019</td>\n",
       "      <td>1209</td>\n",
       "    </tr>\n",
       "    <tr>\n",
       "      <th>20</th>\n",
       "      <td>2020</td>\n",
       "      <td>1480</td>\n",
       "    </tr>\n",
       "    <tr>\n",
       "      <th>21</th>\n",
       "      <td>2021</td>\n",
       "      <td>1618</td>\n",
       "    </tr>\n",
       "    <tr>\n",
       "      <th>22</th>\n",
       "      <td>2022</td>\n",
       "      <td>2941</td>\n",
       "    </tr>\n",
       "  </tbody>\n",
       "</table>\n",
       "</div>"
      ],
      "text/plain": [
       "    year  Review_count\n",
       "0   2000            93\n",
       "1   2001            87\n",
       "2   2002           147\n",
       "3   2003           159\n",
       "4   2004           160\n",
       "5   2005           126\n",
       "6   2006           266\n",
       "7   2007           204\n",
       "8   2008           170\n",
       "9   2009           173\n",
       "10  2010           223\n",
       "11  2011           133\n",
       "12  2012           146\n",
       "13  2013           282\n",
       "14  2014           326\n",
       "15  2015           361\n",
       "16  2016           328\n",
       "17  2017           430\n",
       "18  2018           773\n",
       "19  2019          1209\n",
       "20  2020          1480\n",
       "21  2021          1618\n",
       "22  2022          2941"
      ]
     },
     "execution_count": 94,
     "metadata": {},
     "output_type": "execute_result"
    }
   ],
   "source": [
    "df_dates"
   ]
  },
  {
   "cell_type": "code",
   "execution_count": 97,
   "id": "d0f027ba",
   "metadata": {},
   "outputs": [
    {
     "data": {
      "image/png": "[encoded data removed]",
      "text/plain": [
       "<Figure size 1080x720 with 1 Axes>"
      ]
     },
     "metadata": {},
     "output_type": "display_data"
    }
   ],
   "source": [
    "#plot the review count over the years\n",
    "plt.figure(figsize = (15,10))\n",
    "plt.plot(df_dates['year'].astype(str), \n",
    "         df_dates['Review_count']) \n",
    "plt.xlabel('Year')\n",
    "plt.ylabel('Review count')\n",
    "plt.title('Review count over the years')\n",
    "plt.show()"
   ]
  },
  {
   "cell_type": "markdown",
   "id": "22eac90f",
   "metadata": {},
   "source": [
    "## Building a Classifier"
   ]
  },
  {
   "cell_type": "code",
   "execution_count": 38,
   "id": "b11cb155",
   "metadata": {},
   "outputs": [],
   "source": [
    "from sklearn.tree import DecisionTreeClassifier\n",
    "\n",
    "X = df['texts']\n",
    "Y0 = df['ratings']"
   ]
  },
  {
   "cell_type": "code",
   "execution_count": null,
   "id": "16f17bc3",
   "metadata": {},
   "outputs": [],
   "source": [
    "from sklearn.feature_extraction.text import CountVectorizer\n",
    "from sklearn.feature_extraction.text import TfidfVectorizer"
   ]
  },
  {
   "cell_type": "code",
   "execution_count": null,
   "id": "802b5ae3",
   "metadata": {},
   "outputs": [],
   "source": [
    "from sklearn.tree import DecisionTreeClassifier\n",
    "from sklearn.linear_model import LogisticRegression\n",
    "\n",
    "# Import train, test, and evaluation functions\n",
    "from sklearn.metrics import accuracy_score\n",
    "from sklearn.model_selection import train_test_split\n",
    "from sklearn.model_selection import cross_val_score"
   ]
  },
  {
   "cell_type": "markdown",
   "id": "3b1e26ca",
   "metadata": {},
   "source": [
    "Since our reviews were text data, I had to perform the necessary steps in order to convert this data into numerical representations to feed into our classification model. I created a vectorizer that would track the text into binary features and then transform it into a numeric matrix. "
   ]
  },
  {
   "cell_type": "code",
   "execution_count": null,
   "id": "2532b0eb",
   "metadata": {},
   "outputs": [],
   "source": [
    "# Create a vectorizer that will track text as binary features\n",
    "binary_vectorizer = CountVectorizer(binary=True)\n",
    "\n",
    "# Let the vectorizer learn what tokens exist in the text data\n",
    "binary_vectorizer.fit(X)\n",
    "\n",
    "# Turn these tokens into a numeric matrix\n",
    "X_t = binary_vectorizer.transform(X)"
   ]
  },
  {
   "cell_type": "code",
   "execution_count": 39,
   "id": "20801d66",
   "metadata": {},
   "outputs": [],
   "source": [
    "X_train, X_test, Y0_train, Y0_test = train_test_split(X_t, Y0, train_size=0.70)"
   ]
  },
  {
   "cell_type": "code",
   "execution_count": 40,
   "id": "53fbf7f1",
   "metadata": {},
   "outputs": [
    {
     "name": "stdout",
     "output_type": "stream",
     "text": [
      "The accuracy is 0.8583497606308083\n"
     ]
    }
   ],
   "source": [
    "# Create an empty, unlearned tree\n",
    "tree = DecisionTreeClassifier(criterion=\"entropy\")\n",
    "\n",
    "# Fit/train the tree on the training data\n",
    "tree.fit(X_train, Y0_train)\n",
    "\n",
    "# Get a prediction from the tree on the test data\n",
    "Y0_test_predicted = tree.predict(X_test)\n",
    "\n",
    "# Get the accuracy of this prediction\n",
    "accuracy = accuracy_score(Y0_test_predicted, Y0_test)\n",
    "\n",
    "# Print the accuracy\n",
    "print(\"The accuracy is \" + str(accuracy))"
   ]
  },
  {
   "cell_type": "code",
   "execution_count": 41,
   "id": "3baa955f",
   "metadata": {},
   "outputs": [
    {
     "name": "stdout",
     "output_type": "stream",
     "text": [
      "[[2945  172]\n",
      " [ 331  103]]\n",
      "              precision    recall  f1-score   support\n",
      "\n",
      "       fresh       0.90      0.94      0.92      3117\n",
      "      rotten       0.37      0.24      0.29       434\n",
      "\n",
      "    accuracy                           0.86      3551\n",
      "   macro avg       0.64      0.59      0.61      3551\n",
      "weighted avg       0.83      0.86      0.84      3551\n",
      "\n"
     ]
    }
   ],
   "source": [
    "from sklearn import metrics\n",
    "from sklearn.metrics import classification_report, confusion_matrix\n",
    "print(confusion_matrix(Y0_test, Y0_test_predicted))\n",
    "print(classification_report(Y0_test, Y0_test_predicted))"
   ]
  },
  {
   "cell_type": "markdown",
   "id": "7daa5793",
   "metadata": {},
   "source": [
    "Looking at our classification report we can see that precision and recall are very low for the rotten class but very high for the fresh class. Recall measures the sensitivity of our model, a low recall for ‘rotten’ indicates that there is the presence of a lot of false negatives in our model (negative in this case refers to ‘fresh’ or positive reviews). This means that many reviews are classified as positive even though they are not. \n",
    "\n",
    "It is important to think about why we are creating this model. Are we more interested in accurately identifying the positive or the negative reviews? If our class of interest in this case is the ‘fresh’ or positive classification, then I would recommend using this model. However, if we are more interested in the ‘rotten’ or negative class, and want to accurately identify which reviews fall under this category I would not recommend using this model. In order to improve the model performance it would be imperative to add more instances of the negative class. \n"
   ]
  },
  {
   "cell_type": "code",
   "execution_count": 42,
   "id": "51db6fc7",
   "metadata": {},
   "outputs": [],
   "source": [
    "df0 = pd.DataFrame(X_test, columns=['Reviews'])"
   ]
  },
  {
   "cell_type": "code",
   "execution_count": 43,
   "id": "6a446648",
   "metadata": {},
   "outputs": [
    {
     "data": {
      "text/html": [
       "<div>\n",
       "<style scoped>\n",
       "    .dataframe tbody tr th:only-of-type {\n",
       "        vertical-align: middle;\n",
       "    }\n",
       "\n",
       "    .dataframe tbody tr th {\n",
       "        vertical-align: top;\n",
       "    }\n",
       "\n",
       "    .dataframe thead th {\n",
       "        text-align: right;\n",
       "    }\n",
       "</style>\n",
       "<table border=\"1\" class=\"dataframe\">\n",
       "  <thead>\n",
       "    <tr style=\"text-align: right;\">\n",
       "      <th></th>\n",
       "      <th>Reviews</th>\n",
       "      <th>predictions</th>\n",
       "    </tr>\n",
       "  </thead>\n",
       "  <tbody>\n",
       "    <tr>\n",
       "      <th>0</th>\n",
       "      <td>(0, 1508)\\t1\\n  (0, 2405)\\t1\\n  (0, 2714)\\t1...</td>\n",
       "      <td>fresh</td>\n",
       "    </tr>\n",
       "    <tr>\n",
       "      <th>1</th>\n",
       "      <td>(0, 1809)\\t1\\n  (0, 3033)\\t1\\n  (0, 4226)\\t1...</td>\n",
       "      <td>fresh</td>\n",
       "    </tr>\n",
       "    <tr>\n",
       "      <th>2</th>\n",
       "      <td>(0, 828)\\t1\\n  (0, 2415)\\t1\\n  (0, 4201)\\t1\\...</td>\n",
       "      <td>fresh</td>\n",
       "    </tr>\n",
       "    <tr>\n",
       "      <th>3</th>\n",
       "      <td>(0, 862)\\t1\\n  (0, 1166)\\t1\\n  (0, 4582)\\t1\\...</td>\n",
       "      <td>fresh</td>\n",
       "    </tr>\n",
       "    <tr>\n",
       "      <th>4</th>\n",
       "      <td>(0, 803)\\t1\\n  (0, 886)\\t1\\n  (0, 1687)\\t1\\n...</td>\n",
       "      <td>fresh</td>\n",
       "    </tr>\n",
       "  </tbody>\n",
       "</table>\n",
       "</div>"
      ],
      "text/plain": [
       "                                             Reviews predictions\n",
       "0    (0, 1508)\\t1\\n  (0, 2405)\\t1\\n  (0, 2714)\\t1...       fresh\n",
       "1    (0, 1809)\\t1\\n  (0, 3033)\\t1\\n  (0, 4226)\\t1...       fresh\n",
       "2    (0, 828)\\t1\\n  (0, 2415)\\t1\\n  (0, 4201)\\t1\\...       fresh\n",
       "3    (0, 862)\\t1\\n  (0, 1166)\\t1\\n  (0, 4582)\\t1\\...       fresh\n",
       "4    (0, 803)\\t1\\n  (0, 886)\\t1\\n  (0, 1687)\\t1\\n...       fresh"
      ]
     },
     "execution_count": 43,
     "metadata": {},
     "output_type": "execute_result"
    }
   ],
   "source": [
    "# get some predictions from the model\n",
    "\n",
    "predictions_df = df0.assign(predictions=Y0_test_predicted )\n",
    "\n",
    "predictions_df.head(5)"
   ]
  },
  {
   "cell_type": "code",
   "execution_count": 115,
   "id": "2941d50b",
   "metadata": {},
   "outputs": [],
   "source": [
    "#saving the training data\n",
    "training_data1 = pd.DataFrame(X_train, columns=['X_train'])\n",
    "\n",
    "training_data = training_data1.assign(Y=Y0_train)\n"
   ]
  },
  {
   "cell_type": "code",
   "execution_count": 116,
   "id": "2cd1925d",
   "metadata": {},
   "outputs": [
    {
     "data": {
      "text/html": [
       "<div>\n",
       "<style scoped>\n",
       "    .dataframe tbody tr th:only-of-type {\n",
       "        vertical-align: middle;\n",
       "    }\n",
       "\n",
       "    .dataframe tbody tr th {\n",
       "        vertical-align: top;\n",
       "    }\n",
       "\n",
       "    .dataframe thead th {\n",
       "        text-align: right;\n",
       "    }\n",
       "</style>\n",
       "<table border=\"1\" class=\"dataframe\">\n",
       "  <thead>\n",
       "    <tr style=\"text-align: right;\">\n",
       "      <th></th>\n",
       "      <th>X_train</th>\n",
       "      <th>Y</th>\n",
       "    </tr>\n",
       "  </thead>\n",
       "  <tbody>\n",
       "    <tr>\n",
       "      <th>0</th>\n",
       "      <td>(0, 118)\\t1\\n  (0, 620)\\t1\\n  (0, 11061)\\t1\\...</td>\n",
       "      <td>rotten</td>\n",
       "    </tr>\n",
       "    <tr>\n",
       "      <th>1</th>\n",
       "      <td>(0, 12135)\\t1</td>\n",
       "      <td>NaN</td>\n",
       "    </tr>\n",
       "    <tr>\n",
       "      <th>2</th>\n",
       "      <td>(0, 7378)\\t1\\n  (0, 9949)\\t1\\n  (0, 11131)\\t...</td>\n",
       "      <td>fresh</td>\n",
       "    </tr>\n",
       "    <tr>\n",
       "      <th>3</th>\n",
       "      <td>(0, 2444)\\t1\\n  (0, 2939)\\t1\\n  (0, 3578)\\t1...</td>\n",
       "      <td>fresh</td>\n",
       "    </tr>\n",
       "    <tr>\n",
       "      <th>4</th>\n",
       "      <td>(0, 1729)\\t1\\n  (0, 2197)\\t1\\n  (0, 3039)\\t1...</td>\n",
       "      <td>fresh</td>\n",
       "    </tr>\n",
       "    <tr>\n",
       "      <th>...</th>\n",
       "      <td>...</td>\n",
       "      <td>...</td>\n",
       "    </tr>\n",
       "    <tr>\n",
       "      <th>8279</th>\n",
       "      <td>(0, 1434)\\t1\\n  (0, 1850)\\t1\\n  (0, 3288)\\t1...</td>\n",
       "      <td>NaN</td>\n",
       "    </tr>\n",
       "    <tr>\n",
       "      <th>8280</th>\n",
       "      <td>(0, 12135)\\t1</td>\n",
       "      <td>rotten</td>\n",
       "    </tr>\n",
       "    <tr>\n",
       "      <th>8281</th>\n",
       "      <td>(0, 3280)\\t1\\n  (0, 3636)\\t1\\n  (0, 3674)\\t1...</td>\n",
       "      <td>fresh</td>\n",
       "    </tr>\n",
       "    <tr>\n",
       "      <th>8282</th>\n",
       "      <td>(0, 774)\\t1\\n  (0, 3027)\\t1\\n  (0, 4403)\\t1\\...</td>\n",
       "      <td>NaN</td>\n",
       "    </tr>\n",
       "    <tr>\n",
       "      <th>8283</th>\n",
       "      <td>(0, 2613)\\t1\\n  (0, 6105)\\t1\\n  (0, 6527)\\t1...</td>\n",
       "      <td>fresh</td>\n",
       "    </tr>\n",
       "  </tbody>\n",
       "</table>\n",
       "<p>8284 rows × 2 columns</p>\n",
       "</div>"
      ],
      "text/plain": [
       "                                                X_train       Y\n",
       "0       (0, 118)\\t1\\n  (0, 620)\\t1\\n  (0, 11061)\\t1\\...  rotten\n",
       "1                                         (0, 12135)\\t1     NaN\n",
       "2       (0, 7378)\\t1\\n  (0, 9949)\\t1\\n  (0, 11131)\\t...   fresh\n",
       "3       (0, 2444)\\t1\\n  (0, 2939)\\t1\\n  (0, 3578)\\t1...   fresh\n",
       "4       (0, 1729)\\t1\\n  (0, 2197)\\t1\\n  (0, 3039)\\t1...   fresh\n",
       "...                                                 ...     ...\n",
       "8279    (0, 1434)\\t1\\n  (0, 1850)\\t1\\n  (0, 3288)\\t1...     NaN\n",
       "8280                                      (0, 12135)\\t1  rotten\n",
       "8281    (0, 3280)\\t1\\n  (0, 3636)\\t1\\n  (0, 3674)\\t1...   fresh\n",
       "8282    (0, 774)\\t1\\n  (0, 3027)\\t1\\n  (0, 4403)\\t1\\...     NaN\n",
       "8283    (0, 2613)\\t1\\n  (0, 6105)\\t1\\n  (0, 6527)\\t1...   fresh\n",
       "\n",
       "[8284 rows x 2 columns]"
      ]
     },
     "execution_count": 116,
     "metadata": {},
     "output_type": "execute_result"
    }
   ],
   "source": [
    "training_data"
   ]
  },
  {
   "cell_type": "code",
   "execution_count": 120,
   "id": "2f5a7475",
   "metadata": {},
   "outputs": [],
   "source": [
    "training_data.to_csv(r'C:\\\\Users\\\\Devaki\\\\OneDrive - Fordham University\\\\Desktop\\\\Web analytics\\\\Python assignments\\HW3_training_data.txt')"
   ]
  },
  {
   "cell_type": "markdown",
   "id": "4129d03b",
   "metadata": {},
   "source": [
    "Link to training data\n",
    "https://drive.google.com/file/d/1g1c_Z5fsngZ-pA47oSWBw9-_y3h2xMkf/view?usp=share_link\n"
   ]
  },
  {
   "cell_type": "markdown",
   "id": "9edd203d",
   "metadata": {},
   "source": [
    "## Sentiment Analysis"
   ]
  },
  {
   "cell_type": "code",
   "execution_count": 19,
   "id": "b950fc93",
   "metadata": {},
   "outputs": [],
   "source": [
    "from vaderSentiment.vaderSentiment import SentimentIntensityAnalyzer"
   ]
  },
  {
   "cell_type": "code",
   "execution_count": 20,
   "id": "f9b84917",
   "metadata": {},
   "outputs": [],
   "source": [
    "def sentiment_analyzer_scores(texts):\n",
    "   analyzer = SentimentIntensityAnalyzer()\n",
    "   score = analyzer.polarity_scores(texts)\n",
    "   return score['compound']\n",
    "\n",
    "# apply the function to create the score column\n",
    "df['score'] = df.texts.apply(lambda x: sentiment_analyzer_scores(x))"
   ]
  },
  {
   "cell_type": "code",
   "execution_count": 21,
   "id": "1909ab4e",
   "metadata": {},
   "outputs": [
    {
     "data": {
      "text/html": [
       "<div>\n",
       "<style scoped>\n",
       "    .dataframe tbody tr th:only-of-type {\n",
       "        vertical-align: middle;\n",
       "    }\n",
       "\n",
       "    .dataframe tbody tr th {\n",
       "        vertical-align: top;\n",
       "    }\n",
       "\n",
       "    .dataframe thead th {\n",
       "        text-align: right;\n",
       "    }\n",
       "</style>\n",
       "<table border=\"1\" class=\"dataframe\">\n",
       "  <thead>\n",
       "    <tr style=\"text-align: right;\">\n",
       "      <th></th>\n",
       "      <th>movie_name</th>\n",
       "      <th>critics</th>\n",
       "      <th>ratings</th>\n",
       "      <th>sources</th>\n",
       "      <th>texts</th>\n",
       "      <th>dates</th>\n",
       "      <th>score</th>\n",
       "    </tr>\n",
       "  </thead>\n",
       "  <tbody>\n",
       "    <tr>\n",
       "      <th>0</th>\n",
       "      <td>cars</td>\n",
       "      <td>Mike Massie</td>\n",
       "      <td>rotten</td>\n",
       "      <td>Gone With The Twins</td>\n",
       "      <td>films twohour length unbearable animated feature</td>\n",
       "      <td>Nov 15, 2020</td>\n",
       "      <td>0.0000</td>\n",
       "    </tr>\n",
       "    <tr>\n",
       "      <th>1</th>\n",
       "      <td>cars</td>\n",
       "      <td>Alberto Abuín</td>\n",
       "      <td>fresh</td>\n",
       "      <td>Espinof</td>\n",
       "      <td>absolute wonder that gives us almost two hours...</td>\n",
       "      <td>Feb 12, 2020</td>\n",
       "      <td>0.5908</td>\n",
       "    </tr>\n",
       "    <tr>\n",
       "      <th>2</th>\n",
       "      <td>cars</td>\n",
       "      <td>Micheal Compton</td>\n",
       "      <td>fresh</td>\n",
       "      <td>Bowling Green Daily News</td>\n",
       "      <td>Children love Toy Storylike simplicity adults ...</td>\n",
       "      <td>Nov 19, 2019</td>\n",
       "      <td>0.8402</td>\n",
       "    </tr>\n",
       "    <tr>\n",
       "      <th>3</th>\n",
       "      <td>cars</td>\n",
       "      <td>Matt Brunson</td>\n",
       "      <td>fresh</td>\n",
       "      <td>Film Frenzy</td>\n",
       "      <td>movies Route 66 mythology coupled presence Pau...</td>\n",
       "      <td>Jun 20, 2019</td>\n",
       "      <td>-0.0772</td>\n",
       "    </tr>\n",
       "    <tr>\n",
       "      <th>4</th>\n",
       "      <td>cars</td>\n",
       "      <td>Mattie Lucas</td>\n",
       "      <td>fresh</td>\n",
       "      <td>The Dispatch (Lexington, NC)</td>\n",
       "      <td>simple elegy oncebuzzing small town bypassed i...</td>\n",
       "      <td>Jun 5, 2019</td>\n",
       "      <td>-0.2263</td>\n",
       "    </tr>\n",
       "    <tr>\n",
       "      <th>5</th>\n",
       "      <td>cars</td>\n",
       "      <td>Rachel Wagner</td>\n",
       "      <td>fresh</td>\n",
       "      <td>Rachel's Reviews (YouTube)</td>\n",
       "      <td>Overall I enjoyed it</td>\n",
       "      <td>Feb 21, 2019</td>\n",
       "      <td>0.5106</td>\n",
       "    </tr>\n",
       "    <tr>\n",
       "      <th>6</th>\n",
       "      <td>cars</td>\n",
       "      <td>Joel Siegel</td>\n",
       "      <td>fresh</td>\n",
       "      <td>Good Morning America</td>\n",
       "      <td>laugh cry get ticket 70 45mileanhour zone kind...</td>\n",
       "      <td>Jan 5, 2018</td>\n",
       "      <td>0.5994</td>\n",
       "    </tr>\n",
       "    <tr>\n",
       "      <th>7</th>\n",
       "      <td>cars</td>\n",
       "      <td>James Plath</td>\n",
       "      <td>fresh</td>\n",
       "      <td>Movie Metropolis</td>\n",
       "      <td>Cars energy hearttwo things Robots lacked</td>\n",
       "      <td>Oct 23, 2013</td>\n",
       "      <td>0.2732</td>\n",
       "    </tr>\n",
       "    <tr>\n",
       "      <th>8</th>\n",
       "      <td>cars</td>\n",
       "      <td>Joshua Starnes</td>\n",
       "      <td>rotten</td>\n",
       "      <td>ComingSoon.net</td>\n",
       "      <td>Cars nice homily small town life remembering p...</td>\n",
       "      <td>Mar 10, 2011</td>\n",
       "      <td>0.8834</td>\n",
       "    </tr>\n",
       "    <tr>\n",
       "      <th>9</th>\n",
       "      <td>cars</td>\n",
       "      <td>Matthew Pejkovic</td>\n",
       "      <td>fresh</td>\n",
       "      <td>Matt's Movie Reviews</td>\n",
       "      <td>Unlike Pixar releases Cars cross adults well F...</td>\n",
       "      <td>Jul 7, 2010</td>\n",
       "      <td>0.7430</td>\n",
       "    </tr>\n",
       "    <tr>\n",
       "      <th>10</th>\n",
       "      <td>cars</td>\n",
       "      <td>Kit Bowen</td>\n",
       "      <td>fresh</td>\n",
       "      <td>Hollywood.com</td>\n",
       "      <td>Pixars latest visual stunner heart gold honors...</td>\n",
       "      <td>Sep 8, 2009</td>\n",
       "      <td>0.6478</td>\n",
       "    </tr>\n",
       "    <tr>\n",
       "      <th>11</th>\n",
       "      <td>cars</td>\n",
       "      <td>Fernando F. Croce</td>\n",
       "      <td>rotten</td>\n",
       "      <td>CinePassion</td>\n",
       "      <td>Pixars grown metallic automobiles animated cha...</td>\n",
       "      <td>Aug 30, 2009</td>\n",
       "      <td>-0.5106</td>\n",
       "    </tr>\n",
       "    <tr>\n",
       "      <th>12</th>\n",
       "      <td>cars</td>\n",
       "      <td>Steve Biodrowski</td>\n",
       "      <td>fresh</td>\n",
       "      <td>Cinefantastique</td>\n",
       "      <td>Although plot coasts along predictable path ve...</td>\n",
       "      <td>Jun 6, 2009</td>\n",
       "      <td>0.5994</td>\n",
       "    </tr>\n",
       "    <tr>\n",
       "      <th>13</th>\n",
       "      <td>cars</td>\n",
       "      <td>Felix Vasquez Jr.</td>\n",
       "      <td>rotten</td>\n",
       "      <td>Cinema Crazed</td>\n",
       "      <td>Ive never seen Pixar film void magic originali...</td>\n",
       "      <td>Apr 29, 2009</td>\n",
       "      <td>0.0000</td>\n",
       "    </tr>\n",
       "    <tr>\n",
       "      <th>14</th>\n",
       "      <td>cars</td>\n",
       "      <td>Cole Smithey</td>\n",
       "      <td>fresh</td>\n",
       "      <td>ColeSmithey.com</td>\n",
       "      <td>Owen Wilsons infectious goodnatured energy per...</td>\n",
       "      <td>Apr 23, 2009</td>\n",
       "      <td>0.8074</td>\n",
       "    </tr>\n",
       "    <tr>\n",
       "      <th>15</th>\n",
       "      <td>cars</td>\n",
       "      <td>Justine Elias</td>\n",
       "      <td>rotten</td>\n",
       "      <td>Boston Phoenix</td>\n",
       "      <td>noisy animated paean NASCAR Route 66 gets mire...</td>\n",
       "      <td>Apr 23, 2009</td>\n",
       "      <td>-0.1779</td>\n",
       "    </tr>\n",
       "    <tr>\n",
       "      <th>16</th>\n",
       "      <td>cars</td>\n",
       "      <td>Kit Bowen</td>\n",
       "      <td>fresh</td>\n",
       "      <td>Hollywood.com</td>\n",
       "      <td>NA</td>\n",
       "      <td>Nov 20, 2008</td>\n",
       "      <td>0.0000</td>\n",
       "    </tr>\n",
       "    <tr>\n",
       "      <th>17</th>\n",
       "      <td>cars</td>\n",
       "      <td>Steven D. Greydanus</td>\n",
       "      <td>fresh</td>\n",
       "      <td>Decent Films</td>\n",
       "      <td>Cars Pixars improbable success date film could...</td>\n",
       "      <td>Oct 29, 2008</td>\n",
       "      <td>0.7269</td>\n",
       "    </tr>\n",
       "    <tr>\n",
       "      <th>18</th>\n",
       "      <td>cars</td>\n",
       "      <td>Jim Lane</td>\n",
       "      <td>fresh</td>\n",
       "      <td>Sacramento News &amp; Review</td>\n",
       "      <td>is another masterpiece director John Lasseter ...</td>\n",
       "      <td>Aug 7, 2008</td>\n",
       "      <td>0.6369</td>\n",
       "    </tr>\n",
       "    <tr>\n",
       "      <th>19</th>\n",
       "      <td>cars</td>\n",
       "      <td>Demetrios Matheou</td>\n",
       "      <td>rotten</td>\n",
       "      <td>Film4</td>\n",
       "      <td>Despite technical accomplishments Cars feels l...</td>\n",
       "      <td>Jun 23, 2008</td>\n",
       "      <td>0.4767</td>\n",
       "    </tr>\n",
       "  </tbody>\n",
       "</table>\n",
       "</div>"
      ],
      "text/plain": [
       "   movie_name              critics ratings                       sources  \\\n",
       "0        cars          Mike Massie  rotten           Gone With The Twins   \n",
       "1        cars        Alberto Abuín   fresh                       Espinof   \n",
       "2        cars      Micheal Compton   fresh      Bowling Green Daily News   \n",
       "3        cars         Matt Brunson   fresh                   Film Frenzy   \n",
       "4        cars         Mattie Lucas   fresh  The Dispatch (Lexington, NC)   \n",
       "5        cars        Rachel Wagner   fresh    Rachel's Reviews (YouTube)   \n",
       "6        cars          Joel Siegel   fresh          Good Morning America   \n",
       "7        cars          James Plath   fresh              Movie Metropolis   \n",
       "8        cars       Joshua Starnes  rotten                ComingSoon.net   \n",
       "9        cars     Matthew Pejkovic   fresh          Matt's Movie Reviews   \n",
       "10       cars            Kit Bowen   fresh                 Hollywood.com   \n",
       "11       cars    Fernando F. Croce  rotten                   CinePassion   \n",
       "12       cars     Steve Biodrowski   fresh               Cinefantastique   \n",
       "13       cars    Felix Vasquez Jr.  rotten                 Cinema Crazed   \n",
       "14       cars         Cole Smithey   fresh               ColeSmithey.com   \n",
       "15       cars        Justine Elias  rotten                Boston Phoenix   \n",
       "16       cars            Kit Bowen   fresh                 Hollywood.com   \n",
       "17       cars  Steven D. Greydanus   fresh                  Decent Films   \n",
       "18       cars             Jim Lane   fresh      Sacramento News & Review   \n",
       "19       cars    Demetrios Matheou  rotten                         Film4   \n",
       "\n",
       "                                                texts         dates   score  \n",
       "0    films twohour length unbearable animated feature  Nov 15, 2020  0.0000  \n",
       "1   absolute wonder that gives us almost two hours...  Feb 12, 2020  0.5908  \n",
       "2   Children love Toy Storylike simplicity adults ...  Nov 19, 2019  0.8402  \n",
       "3   movies Route 66 mythology coupled presence Pau...  Jun 20, 2019 -0.0772  \n",
       "4   simple elegy oncebuzzing small town bypassed i...   Jun 5, 2019 -0.2263  \n",
       "5                                Overall I enjoyed it  Feb 21, 2019  0.5106  \n",
       "6   laugh cry get ticket 70 45mileanhour zone kind...   Jan 5, 2018  0.5994  \n",
       "7           Cars energy hearttwo things Robots lacked  Oct 23, 2013  0.2732  \n",
       "8   Cars nice homily small town life remembering p...  Mar 10, 2011  0.8834  \n",
       "9   Unlike Pixar releases Cars cross adults well F...   Jul 7, 2010  0.7430  \n",
       "10  Pixars latest visual stunner heart gold honors...   Sep 8, 2009  0.6478  \n",
       "11  Pixars grown metallic automobiles animated cha...  Aug 30, 2009 -0.5106  \n",
       "12  Although plot coasts along predictable path ve...   Jun 6, 2009  0.5994  \n",
       "13  Ive never seen Pixar film void magic originali...  Apr 29, 2009  0.0000  \n",
       "14  Owen Wilsons infectious goodnatured energy per...  Apr 23, 2009  0.8074  \n",
       "15  noisy animated paean NASCAR Route 66 gets mire...  Apr 23, 2009 -0.1779  \n",
       "16                                                 NA  Nov 20, 2008  0.0000  \n",
       "17  Cars Pixars improbable success date film could...  Oct 29, 2008  0.7269  \n",
       "18  is another masterpiece director John Lasseter ...   Aug 7, 2008  0.6369  \n",
       "19  Despite technical accomplishments Cars feels l...  Jun 23, 2008  0.4767  "
      ]
     },
     "execution_count": 21,
     "metadata": {},
     "output_type": "execute_result"
    }
   ],
   "source": [
    "df.head(20)"
   ]
  },
  {
   "cell_type": "code",
   "execution_count": 22,
   "id": "6ee7659c",
   "metadata": {},
   "outputs": [],
   "source": [
    "def getAnalysis(score):\n",
    "    if score<0:\n",
    "        return 'Negative'\n",
    "    elif score ==0:\n",
    "        return 'Neutral'\n",
    "    else:\n",
    "        return 'Positive'\n",
    "    \n",
    "df['classify_sentiments'] = df['score'].apply(getAnalysis)"
   ]
  },
  {
   "cell_type": "code",
   "execution_count": 23,
   "id": "db739fcf",
   "metadata": {},
   "outputs": [
    {
     "data": {
      "text/html": [
       "<div>\n",
       "<style scoped>\n",
       "    .dataframe tbody tr th:only-of-type {\n",
       "        vertical-align: middle;\n",
       "    }\n",
       "\n",
       "    .dataframe tbody tr th {\n",
       "        vertical-align: top;\n",
       "    }\n",
       "\n",
       "    .dataframe thead th {\n",
       "        text-align: right;\n",
       "    }\n",
       "</style>\n",
       "<table border=\"1\" class=\"dataframe\">\n",
       "  <thead>\n",
       "    <tr style=\"text-align: right;\">\n",
       "      <th></th>\n",
       "      <th>movie_name</th>\n",
       "      <th>critics</th>\n",
       "      <th>ratings</th>\n",
       "      <th>sources</th>\n",
       "      <th>texts</th>\n",
       "      <th>dates</th>\n",
       "      <th>score</th>\n",
       "      <th>classify_sentiments</th>\n",
       "    </tr>\n",
       "  </thead>\n",
       "  <tbody>\n",
       "    <tr>\n",
       "      <th>0</th>\n",
       "      <td>cars</td>\n",
       "      <td>Mike Massie</td>\n",
       "      <td>rotten</td>\n",
       "      <td>Gone With The Twins</td>\n",
       "      <td>films twohour length unbearable animated feature</td>\n",
       "      <td>Nov 15, 2020</td>\n",
       "      <td>0.0000</td>\n",
       "      <td>Neutral</td>\n",
       "    </tr>\n",
       "    <tr>\n",
       "      <th>1</th>\n",
       "      <td>cars</td>\n",
       "      <td>Alberto Abuín</td>\n",
       "      <td>fresh</td>\n",
       "      <td>Espinof</td>\n",
       "      <td>absolute wonder that gives us almost two hours...</td>\n",
       "      <td>Feb 12, 2020</td>\n",
       "      <td>0.5908</td>\n",
       "      <td>Positive</td>\n",
       "    </tr>\n",
       "    <tr>\n",
       "      <th>2</th>\n",
       "      <td>cars</td>\n",
       "      <td>Micheal Compton</td>\n",
       "      <td>fresh</td>\n",
       "      <td>Bowling Green Daily News</td>\n",
       "      <td>Children love Toy Storylike simplicity adults ...</td>\n",
       "      <td>Nov 19, 2019</td>\n",
       "      <td>0.8402</td>\n",
       "      <td>Positive</td>\n",
       "    </tr>\n",
       "    <tr>\n",
       "      <th>3</th>\n",
       "      <td>cars</td>\n",
       "      <td>Matt Brunson</td>\n",
       "      <td>fresh</td>\n",
       "      <td>Film Frenzy</td>\n",
       "      <td>movies Route 66 mythology coupled presence Pau...</td>\n",
       "      <td>Jun 20, 2019</td>\n",
       "      <td>-0.0772</td>\n",
       "      <td>Negative</td>\n",
       "    </tr>\n",
       "    <tr>\n",
       "      <th>4</th>\n",
       "      <td>cars</td>\n",
       "      <td>Mattie Lucas</td>\n",
       "      <td>fresh</td>\n",
       "      <td>The Dispatch (Lexington, NC)</td>\n",
       "      <td>simple elegy oncebuzzing small town bypassed i...</td>\n",
       "      <td>Jun 5, 2019</td>\n",
       "      <td>-0.2263</td>\n",
       "      <td>Negative</td>\n",
       "    </tr>\n",
       "  </tbody>\n",
       "</table>\n",
       "</div>"
      ],
      "text/plain": [
       "  movie_name          critics ratings                       sources  \\\n",
       "0       cars      Mike Massie  rotten           Gone With The Twins   \n",
       "1       cars    Alberto Abuín   fresh                       Espinof   \n",
       "2       cars  Micheal Compton   fresh      Bowling Green Daily News   \n",
       "3       cars     Matt Brunson   fresh                   Film Frenzy   \n",
       "4       cars     Mattie Lucas   fresh  The Dispatch (Lexington, NC)   \n",
       "\n",
       "                                               texts         dates   score  \\\n",
       "0   films twohour length unbearable animated feature  Nov 15, 2020  0.0000   \n",
       "1  absolute wonder that gives us almost two hours...  Feb 12, 2020  0.5908   \n",
       "2  Children love Toy Storylike simplicity adults ...  Nov 19, 2019  0.8402   \n",
       "3  movies Route 66 mythology coupled presence Pau...  Jun 20, 2019 -0.0772   \n",
       "4  simple elegy oncebuzzing small town bypassed i...   Jun 5, 2019 -0.2263   \n",
       "\n",
       "  classify_sentiments  \n",
       "0             Neutral  \n",
       "1            Positive  \n",
       "2            Positive  \n",
       "3            Negative  \n",
       "4            Negative  "
      ]
     },
     "execution_count": 23,
     "metadata": {},
     "output_type": "execute_result"
    }
   ],
   "source": [
    "df.head()"
   ]
  },
  {
   "cell_type": "code",
   "execution_count": 45,
   "id": "32fdbdc8",
   "metadata": {},
   "outputs": [
    {
     "name": "stderr",
     "output_type": "stream",
     "text": [
      "C:\\Users\\Devaki\\anaconda3\\lib\\site-packages\\seaborn\\_decorators.py:36: FutureWarning: Pass the following variable as a keyword arg: x. From version 0.12, the only valid positional argument will be `data`, and passing other arguments without an explicit keyword will result in an error or misinterpretation.\n",
      "  warnings.warn(\n"
     ]
    },
    {
     "data": {
      "image/png": "[encoded data removed]",
      "text/plain": [
       "<Figure size 576x432 with 1 Axes>"
      ]
     },
     "metadata": {},
     "output_type": "display_data"
    }
   ],
   "source": [
    "#looking at the distribution of ratings\n",
    "#we notice there is a major class imbalance, with majority reviews belonging to the positive class\n",
    "plt.figure(figsize = (8,6))\n",
    "sns.countplot(df['classify_sentiments'], color = 'tab:blue')\n",
    "plt.title('Distribution of Sentiments')\n",
    "plt.show()"
   ]
  },
  {
   "cell_type": "markdown",
   "id": "7cedd41b",
   "metadata": {},
   "source": [
    "## Building a Classifier using Sentiment Analysis"
   ]
  },
  {
   "cell_type": "markdown",
   "id": "7a67b0ff",
   "metadata": {},
   "source": [
    "Another decision tree classification model was built after performing a sentiment analysis on the data. By performing a sentiment analysis, each review was given a rating from -1 to 1. I classified all the ratings above 0 as positive, below 0 as negative and all those with a score of 0 as neutral. I then used this new dataset with the sentiment classification as the dependent variable to create our model. However, the accuracy of this model was 72%, which was lower than our original decision tree classifier."
   ]
  },
  {
   "cell_type": "code",
   "execution_count": 25,
   "id": "7b06cab2",
   "metadata": {},
   "outputs": [],
   "source": [
    "from sklearn.tree import DecisionTreeClassifier\n",
    "\n",
    "X = df['texts']\n",
    "Y = df['classify_sentiments']\n",
    "\n"
   ]
  },
  {
   "cell_type": "code",
   "execution_count": 30,
   "id": "9bcc0f64",
   "metadata": {},
   "outputs": [],
   "source": [
    "X_train, X_test, Y_train, Y_test = train_test_split(X_t, Y, train_size=0.70)"
   ]
  },
  {
   "cell_type": "code",
   "execution_count": 31,
   "id": "005dbadc",
   "metadata": {},
   "outputs": [
    {
     "name": "stdout",
     "output_type": "stream",
     "text": [
      "The accuracy is 0.7214869050971557\n"
     ]
    }
   ],
   "source": [
    "# Create an empty, unlearned tree\n",
    "tree = DecisionTreeClassifier(criterion=\"entropy\")\n",
    "\n",
    "# Fit/train the tree on the training data\n",
    "tree.fit(X_train, Y_train)\n",
    "\n",
    "# Get a prediction from the tree on the test data\n",
    "Y_test_predicted = tree.predict(X_test)\n",
    "\n",
    "# Get the accuracy of this prediction\n",
    "accuracy = accuracy_score(Y_test_predicted, Y_test)\n",
    "\n",
    "# Print the accuracy\n",
    "print(\"The accuracy is \" + str(accuracy))"
   ]
  },
  {
   "cell_type": "code",
   "execution_count": 32,
   "id": "9861821f",
   "metadata": {},
   "outputs": [
    {
     "data": {
      "text/plain": [
       "array(['Positive', 'Positive', 'Positive', ..., 'Positive', 'Positive',\n",
       "       'Negative'], dtype=object)"
      ]
     },
     "execution_count": 32,
     "metadata": {},
     "output_type": "execute_result"
    }
   ],
   "source": [
    "Y_test_predicted "
   ]
  },
  {
   "cell_type": "code",
   "execution_count": 33,
   "id": "eb2b9a66",
   "metadata": {},
   "outputs": [
    {
     "name": "stdout",
     "output_type": "stream",
     "text": [
      "[[ 406  106  316]\n",
      " [  57  260   83]\n",
      " [ 252  175 1896]]\n",
      "              precision    recall  f1-score   support\n",
      "\n",
      "    Negative       0.57      0.49      0.53       828\n",
      "     Neutral       0.48      0.65      0.55       400\n",
      "    Positive       0.83      0.82      0.82      2323\n",
      "\n",
      "    accuracy                           0.72      3551\n",
      "   macro avg       0.62      0.65      0.63      3551\n",
      "weighted avg       0.73      0.72      0.72      3551\n",
      "\n"
     ]
    }
   ],
   "source": [
    "from sklearn import metrics\n",
    "from sklearn.metrics import classification_report, confusion_matrix\n",
    "print(confusion_matrix(Y_test, Y_test_predicted))\n",
    "print(classification_report(Y_test, Y_test_predicted))"
   ]
  },
  {
   "cell_type": "code",
   "execution_count": 34,
   "id": "ae32cab5",
   "metadata": {},
   "outputs": [],
   "source": [
    "df1 = pd.DataFrame(X_test, columns=['Reviews'])"
   ]
  },
  {
   "cell_type": "code",
   "execution_count": 35,
   "id": "c1083073",
   "metadata": {},
   "outputs": [
    {
     "data": {
      "text/plain": [
       "(3551, 1)"
      ]
     },
     "execution_count": 35,
     "metadata": {},
     "output_type": "execute_result"
    }
   ],
   "source": [
    "df1.shape"
   ]
  },
  {
   "cell_type": "code",
   "execution_count": 36,
   "id": "ab1196ae",
   "metadata": {},
   "outputs": [
    {
     "data": {
      "text/html": [
       "<div>\n",
       "<style scoped>\n",
       "    .dataframe tbody tr th:only-of-type {\n",
       "        vertical-align: middle;\n",
       "    }\n",
       "\n",
       "    .dataframe tbody tr th {\n",
       "        vertical-align: top;\n",
       "    }\n",
       "\n",
       "    .dataframe thead th {\n",
       "        text-align: right;\n",
       "    }\n",
       "</style>\n",
       "<table border=\"1\" class=\"dataframe\">\n",
       "  <thead>\n",
       "    <tr style=\"text-align: right;\">\n",
       "      <th></th>\n",
       "      <th>Reviews</th>\n",
       "      <th>predictions</th>\n",
       "    </tr>\n",
       "  </thead>\n",
       "  <tbody>\n",
       "    <tr>\n",
       "      <th>0</th>\n",
       "      <td>(0, 1179)\\t1\\n  (0, 1544)\\t1\\n  (0, 2198)\\t1...</td>\n",
       "      <td>Positive</td>\n",
       "    </tr>\n",
       "    <tr>\n",
       "      <th>1</th>\n",
       "      <td>(0, 184)\\t1\\n  (0, 3546)\\t1\\n  (0, 6349)\\t1\\...</td>\n",
       "      <td>Positive</td>\n",
       "    </tr>\n",
       "    <tr>\n",
       "      <th>2</th>\n",
       "      <td>(0, 7576)\\t1\\n  (0, 8790)\\t1\\n  (0, 10286)\\t...</td>\n",
       "      <td>Positive</td>\n",
       "    </tr>\n",
       "    <tr>\n",
       "      <th>3</th>\n",
       "      <td>(0, 1549)\\t1\\n  (0, 1915)\\t1\\n  (0, 2276)\\t1...</td>\n",
       "      <td>Positive</td>\n",
       "    </tr>\n",
       "    <tr>\n",
       "      <th>4</th>\n",
       "      <td>(0, 400)\\t1\\n  (0, 3221)\\t1\\n  (0, 4443)\\t1\\...</td>\n",
       "      <td>Neutral</td>\n",
       "    </tr>\n",
       "  </tbody>\n",
       "</table>\n",
       "</div>"
      ],
      "text/plain": [
       "                                             Reviews predictions\n",
       "0    (0, 1179)\\t1\\n  (0, 1544)\\t1\\n  (0, 2198)\\t1...    Positive\n",
       "1    (0, 184)\\t1\\n  (0, 3546)\\t1\\n  (0, 6349)\\t1\\...    Positive\n",
       "2    (0, 7576)\\t1\\n  (0, 8790)\\t1\\n  (0, 10286)\\t...    Positive\n",
       "3    (0, 1549)\\t1\\n  (0, 1915)\\t1\\n  (0, 2276)\\t1...    Positive\n",
       "4    (0, 400)\\t1\\n  (0, 3221)\\t1\\n  (0, 4443)\\t1\\...     Neutral"
      ]
     },
     "execution_count": 36,
     "metadata": {},
     "output_type": "execute_result"
    }
   ],
   "source": [
    "# get some predictions from the model\n",
    "\n",
    "predictions_df = df1.assign(predictions=Y_test_predicted )\n",
    "\n",
    "predictions_df.head(5)\n"
   ]
  },
  {
   "cell_type": "markdown",
   "id": "76f6238c",
   "metadata": {},
   "source": [
    "In conclusion, our decision tree classifier has an accuracy of 86%. However, due to the major class imbalance in our training dataset our model can only accurately predict the reviews which fall under the positive class. There are many reviews that are incorrectly being classified as ‘fresh’ or positive. In order to improve our model we must add more instances of the negative class to our training dataset so that our model can learn from these instances. "
   ]
  },
  {
   "cell_type": "code",
   "execution_count": null,
   "id": "bd13dd10",
   "metadata": {},
   "outputs": [],
   "source": []
  },
  {
   "cell_type": "code",
   "execution_count": null,
   "id": "017b91ef",
   "metadata": {},
   "outputs": [],
   "source": []
  }
 ],
 "metadata": {
  "kernelspec": {
   "display_name": "Python 3 (ipykernel)",
   "language": "python",
   "name": "python3"
  },
  "language_info": {
   "codemirror_mode": {
    "name": "ipython",
    "version": 3
   },
   "file_extension": ".py",
   "mimetype": "text/x-python",
   "name": "python",
   "nbconvert_exporter": "python",
   "pygments_lexer": "ipython3",
   "version": "3.9.12"
  }
 },
 "nbformat": 4,
 "nbformat_minor": 5
}
